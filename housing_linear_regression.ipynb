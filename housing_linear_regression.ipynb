{
  "nbformat": 4,
  "nbformat_minor": 0,
  "metadata": {
    "kernelspec": {
      "name": "python3",
      "display_name": "Python 3"
    },
    "colab": {
      "name": "Exercise_2_P3.ipynb",
      "provenance": [],
      "collapsed_sections": []
    }
  },
  "cells": [
    {
      "cell_type": "markdown",
      "metadata": {
        "id": "VqdiMxZx-EoD"
      },
      "source": [
        "# Linear regression \n",
        "\n",
        "In this exercise you will use linear regression to predict flat prices. One more time, training will be handled via gradient descent. Although, contratry to the first exercise, we will now:\n",
        "* have multiple features (i.e. variables used to make the prediction),\n",
        "* employ some basic feature engineering,\n",
        "* work with a different loss function.\n",
        "\n",
        "Let's start with getting the data."
      ]
    },
    {
      "cell_type": "code",
      "metadata": {
        "id": "heeKjQ2r-EoH",
        "outputId": "a7c95f68-1fe4-412b-df7a-1349b2cd5676",
        "colab": {
          "base_uri": "https://localhost:8080/"
        }
      },
      "source": [
        "%matplotlib inline\n",
        "\n",
        "!wget -O mieszkania.csv https://www.dropbox.com/s/zey0gx91pna8irj/mieszkania.csv?dl=1\n",
        "!wget -O mieszkania_test.csv https://www.dropbox.com/s/dbrj6sbxb4ayqjz/mieszkania_test.csv?dl=1"
      ],
      "execution_count": null,
      "outputs": [
        {
          "output_type": "stream",
          "text": [
            "--2020-10-31 14:08:12--  https://www.dropbox.com/s/zey0gx91pna8irj/mieszkania.csv?dl=1\n",
            "Resolving www.dropbox.com (www.dropbox.com)... 162.125.5.1, 2620:100:6018:1::a27d:301\n",
            "Connecting to www.dropbox.com (www.dropbox.com)|162.125.5.1|:443... connected.\n",
            "HTTP request sent, awaiting response... 301 Moved Permanently\n",
            "Location: /s/dl/zey0gx91pna8irj/mieszkania.csv [following]\n",
            "--2020-10-31 14:08:12--  https://www.dropbox.com/s/dl/zey0gx91pna8irj/mieszkania.csv\n",
            "Reusing existing connection to www.dropbox.com:443.\n",
            "HTTP request sent, awaiting response... 302 Found\n",
            "Location: https://uc2310aeb6c6d5c6e8617d433472.dl.dropboxusercontent.com/cd/0/get/BCS0gJiVjziwWJ-reY6hVFZx23TXYXSIrZV-yb3W1wwTUtMwGJKgAspTfc5x5R11gCvaOrQoMWu0Q1cGOC3pM5pbNx1T0J_m_V0ub_p-5T_2PQ/file?dl=1# [following]\n",
            "--2020-10-31 14:08:12--  https://uc2310aeb6c6d5c6e8617d433472.dl.dropboxusercontent.com/cd/0/get/BCS0gJiVjziwWJ-reY6hVFZx23TXYXSIrZV-yb3W1wwTUtMwGJKgAspTfc5x5R11gCvaOrQoMWu0Q1cGOC3pM5pbNx1T0J_m_V0ub_p-5T_2PQ/file?dl=1\n",
            "Resolving uc2310aeb6c6d5c6e8617d433472.dl.dropboxusercontent.com (uc2310aeb6c6d5c6e8617d433472.dl.dropboxusercontent.com)... 162.125.3.15, 2620:100:6018:15::a27d:30f\n",
            "Connecting to uc2310aeb6c6d5c6e8617d433472.dl.dropboxusercontent.com (uc2310aeb6c6d5c6e8617d433472.dl.dropboxusercontent.com)|162.125.3.15|:443... connected.\n",
            "HTTP request sent, awaiting response... 200 OK\n",
            "Length: 6211 (6.1K) [application/binary]\n",
            "Saving to: ‘mieszkania.csv’\n",
            "\n",
            "mieszkania.csv      100%[===================>]   6.07K  --.-KB/s    in 0s      \n",
            "\n",
            "2020-10-31 14:08:13 (720 MB/s) - ‘mieszkania.csv’ saved [6211/6211]\n",
            "\n",
            "--2020-10-31 14:08:13--  https://www.dropbox.com/s/dbrj6sbxb4ayqjz/mieszkania_test.csv?dl=1\n",
            "Resolving www.dropbox.com (www.dropbox.com)... 162.125.5.1, 2620:100:6018:1::a27d:301\n",
            "Connecting to www.dropbox.com (www.dropbox.com)|162.125.5.1|:443... connected.\n",
            "HTTP request sent, awaiting response... 301 Moved Permanently\n",
            "Location: /s/dl/dbrj6sbxb4ayqjz/mieszkania_test.csv [following]\n",
            "--2020-10-31 14:08:13--  https://www.dropbox.com/s/dl/dbrj6sbxb4ayqjz/mieszkania_test.csv\n",
            "Reusing existing connection to www.dropbox.com:443.\n",
            "HTTP request sent, awaiting response... 302 Found\n",
            "Location: https://uc894969c230a330c5bc0f4c7090.dl.dropboxusercontent.com/cd/0/get/BCS1TztCGL6FlvU2Q4f8qJbJDUJvnt02zsWnCxOfGVM_vHvh3bEbb7rGLJRcpV8oL2Sd5oHdMCi_VRedZAuiGMLyYSbZBeMWEQdcH-w1DBs1Lw/file?dl=1# [following]\n",
            "--2020-10-31 14:08:14--  https://uc894969c230a330c5bc0f4c7090.dl.dropboxusercontent.com/cd/0/get/BCS1TztCGL6FlvU2Q4f8qJbJDUJvnt02zsWnCxOfGVM_vHvh3bEbb7rGLJRcpV8oL2Sd5oHdMCi_VRedZAuiGMLyYSbZBeMWEQdcH-w1DBs1Lw/file?dl=1\n",
            "Resolving uc894969c230a330c5bc0f4c7090.dl.dropboxusercontent.com (uc894969c230a330c5bc0f4c7090.dl.dropboxusercontent.com)... 162.125.3.15, 2620:100:6018:15::a27d:30f\n",
            "Connecting to uc894969c230a330c5bc0f4c7090.dl.dropboxusercontent.com (uc894969c230a330c5bc0f4c7090.dl.dropboxusercontent.com)|162.125.3.15|:443... connected.\n",
            "HTTP request sent, awaiting response... 200 OK\n",
            "Length: 6247 (6.1K) [application/binary]\n",
            "Saving to: ‘mieszkania_test.csv’\n",
            "\n",
            "mieszkania_test.csv 100%[===================>]   6.10K  --.-KB/s    in 0s      \n",
            "\n",
            "2020-10-31 14:08:14 (777 MB/s) - ‘mieszkania_test.csv’ saved [6247/6247]\n",
            "\n"
          ],
          "name": "stdout"
        }
      ]
    },
    {
      "cell_type": "code",
      "metadata": {
        "id": "yI9wFXv5-EoP",
        "outputId": "cb9d13a0-e1fd-4cf5-ae1f-73b13d0b7ab0",
        "colab": {
          "base_uri": "https://localhost:8080/"
        }
      },
      "source": [
        "!head mieszkania.csv mieszkania_test.csv"
      ],
      "execution_count": null,
      "outputs": [
        {
          "output_type": "stream",
          "text": [
            "==> mieszkania.csv <==\n",
            "m2,dzielnica,ilość_sypialni,ilość_łazienek,rok_budowy,parking_podziemny,cena\n",
            "104,mokotowo,2,2,1940,1,780094\n",
            "43,ochotowo,1,1,1970,1,346912\n",
            "128,grodziskowo,3,2,1916,1,523466\n",
            "112,mokotowo,3,2,1920,1,830965\n",
            "149,mokotowo,3,3,1977,0,1090479\n",
            "80,ochotowo,2,2,1937,0,599060\n",
            "58,ochotowo,2,1,1922,0,463639\n",
            "23,ochotowo,1,1,1929,0,166785\n",
            "40,mokotowo,1,1,1973,0,318849\n",
            "\n",
            "==> mieszkania_test.csv <==\n",
            "m2,dzielnica,ilość_sypialni,ilość_łazienek,rok_budowy,parking_podziemny,cena\n",
            "71,wolowo,2,2,1912,1,322227\n",
            "45,mokotowo,1,1,1938,0,295878\n",
            "38,mokotowo,1,1,1999,1,306530\n",
            "70,ochotowo,2,2,1980,1,553641\n",
            "136,mokotowo,3,2,1939,1,985348\n",
            "128,wolowo,3,2,1983,1,695726\n",
            "23,grodziskowo,1,1,1975,0,99751\n",
            "117,mokotowo,3,2,1942,0,891261\n",
            "65,ochotowo,2,1,2002,1,536499\n"
          ],
          "name": "stdout"
        }
      ]
    },
    {
      "cell_type": "markdown",
      "metadata": {
        "id": "iH8Ut02G-EoU"
      },
      "source": [
        "Each row in the data represents a separate property. Our goal is to use the data from `mieszkania.csv` to create a model that can predict a property's price (i.e. `cena`) given its features (i.e. `m2,dzielnica,ilosc_sypialni,ilosc_lazienek,rok_budowy,parking_podziemny`). \n",
        "\n",
        "From now on, we should interfere only with `mieszkania.csv` (dubbed the training dataset) to make our decisions and create the model. The (only) purpose of `mieszkania_test.csv` is to test our model on **unseen** data.\n",
        "\n",
        "Our predictions should minimize the so-called mean squared logarithmic error:\n",
        "$$\n",
        "MSLE = \\frac{1}{n} \\sum_{i=1}^n (\\log(1+y_i) - \\log(1+p_i))^2,\n",
        "$$\n",
        "where $y_i$ is the ground truth, and $p_i$ is our prediction."
      ]
    },
    {
      "cell_type": "markdown",
      "metadata": {
        "id": "y8QX6Ncr-EoW"
      },
      "source": [
        "Let's start with implementing the loss function."
      ]
    },
    {
      "cell_type": "code",
      "metadata": {
        "id": "JAiB8S9A-EoX"
      },
      "source": [
        "import math\n",
        "def msle(ys, ps):\n",
        "    assert len(ys) == len(ps)\n",
        "    result = 0\n",
        "    for i in range(len(ys)):\n",
        "      result += (math.log(1 + ys[i]) - math.log(1 + ps[i])) ** 2\n",
        "    result /= len(ys)\n",
        "    return result"
      ],
      "execution_count": null,
      "outputs": []
    },
    {
      "cell_type": "markdown",
      "metadata": {
        "id": "zAmd2qLR-Eob"
      },
      "source": [
        "The simplest model is predicting the same constant for each instance. Test your implementation of msle against outputing the mean price."
      ]
    },
    {
      "cell_type": "code",
      "metadata": {
        "id": "b0RT7VW7-Eoc",
        "outputId": "c9c80f45-cb88-45a5-fd2b-595cfb1954cf",
        "colab": {
          "base_uri": "https://localhost:8080/"
        }
      },
      "source": [
        "###################################################\n",
        "# TODO: Compute msle for outputing the mean price #\n",
        "###################################################\n",
        "import csv\n",
        "import statistics\n",
        "with open('mieszkania.csv', newline='') as csvfile:\n",
        "  reader = csv.reader(csvfile, delimiter=',')\n",
        "  prices = []\n",
        "  firstline = True\n",
        "  for row in reader:\n",
        "    if not firstline:\n",
        "      prices.append(int(row[len(row) - 1]))\n",
        "    else:\n",
        "      firstline = False\n",
        "  mean = statistics.mean(prices)\n",
        "  prediction_1 = [mean] * len(prices)\n",
        "  loss_1 = msle(prices, prediction_1)\n",
        "  print(loss_1)"
      ],
      "execution_count": null,
      "outputs": [
        {
          "output_type": "stream",
          "text": [
            "0.3915253538257009\n"
          ],
          "name": "stdout"
        }
      ]
    },
    {
      "cell_type": "markdown",
      "metadata": {
        "id": "a0zMmTiv-Eof"
      },
      "source": [
        "Recall that outputing the mean minimzes $MSE$. However, we're now dealing with $MSLE$.\n",
        "\n",
        "Think of a constant that should result in the lowest $MSLE$."
      ]
    },
    {
      "cell_type": "code",
      "metadata": {
        "id": "Q0Z4drNd-Eog",
        "outputId": "ba5f326f-f499-4cac-8c53-2fcfcd3c01d1",
        "colab": {
          "base_uri": "https://localhost:8080/"
        }
      },
      "source": [
        "#############################################\n",
        "# TODO: Find this constant and compute msle #\n",
        "#############################################\n",
        "def find_optimal_constant(ys):\n",
        "  result = 1\n",
        "  power = 1 / float(len(ys))\n",
        "  for i in range(len(ys)):\n",
        "    result *= (ys[i] + 1) ** power\n",
        "  return result - 1\n",
        "c = find_optimal_constant(prices)\n",
        "print(c)\n",
        "print(msle(prices, [c] * len(prices)))"
      ],
      "execution_count": null,
      "outputs": [
        {
          "output_type": "stream",
          "text": [
            "431435.4915823436\n",
            "0.36488961221335897\n"
          ],
          "name": "stdout"
        }
      ]
    },
    {
      "cell_type": "markdown",
      "metadata": {
        "id": "2RdHlBw8-Eoi"
      },
      "source": [
        "Now, let's implement a standard linear regression model. "
      ]
    },
    {
      "cell_type": "code",
      "metadata": {
        "id": "Vn97D3vd-Eoj",
        "outputId": "7c7518e0-4177-48d9-be71-fc31bea8b9a2",
        "colab": {
          "base_uri": "https://localhost:8080/",
          "height": 1000
        }
      },
      "source": [
        "##########################################################\n",
        "# TODO: Implement linear regression and compute its msle #\n",
        "##########################################################\n",
        "import pandas as pd\n",
        "import matplotlib.pyplot as plt\n",
        "def l2_loss(ys1, ps1):\n",
        "    assert len(ys1) == len(ps1)\n",
        "    result = 0\n",
        "    for i in range(len(ys1)):\n",
        "      result += (ys1[i] - ps1[i]) ** 2\n",
        "    result /= len(ys1)\n",
        "    return result\n",
        "\n",
        "def prediction(xs, betas):\n",
        "  i = 0\n",
        "  preds = []\n",
        "  while (i < len(xs[0])):\n",
        "    pred = 0\n",
        "    for j in range(len(betas) - 1):\n",
        "      pred += xs[j][i] * betas[j]\n",
        "    pred += betas[len(betas) - 1]\n",
        "    i += 1\n",
        "    preds.append(pred)\n",
        "  return preds\n",
        "\n",
        "def derivative(ys, ps, xi):\n",
        "  assert len(ys) == len(ps)\n",
        "  result_r = 0\n",
        "  for i in range(len(ys)):\n",
        "    result_r += (ps[i] - ys[i]) * xi[i]\n",
        "  result_r /= (len(ys)/2)\n",
        "  return result_r\n",
        "\n",
        "housing = pd.DataFrame(pd.read_csv(\"mieszkania.csv\"))\n",
        "districts = pd.get_dummies(housing['dzielnica'])\n",
        "data = []\n",
        "\n",
        "data.append(housing['m2'])\n",
        "data.append(housing['ilość_sypialni'])\n",
        "data.append(housing['ilość_łazienek'])\n",
        "data.append(housing['rok_budowy'])\n",
        "data.append(housing['parking_podziemny'])\n",
        "\n",
        "for district in districts:\n",
        "  data.append(districts[district])\n",
        "\n",
        "betas = [0.] * (len(data) + 1)\n",
        "\n",
        "n_epochs = 1000\n",
        "lr = 0.00000001\n",
        "losses = []\n",
        "for i in range(n_epochs):\n",
        "  predictions = prediction(data, betas)\n",
        "  losses.append(l2_loss(housing['cena'], predictions))\n",
        "  for j in range(len(betas) - 1):\n",
        "    betas[j] = betas[j] - lr * derivative(housing['cena'], predictions, data[j])\n",
        "  j = len(betas) - 1\n",
        "  betas[j] = betas[j] - lr * derivative(housing['cena'], predictions, [1] * 200)\n",
        "print(predictions)\n",
        "axis_x = [i for i in range(len(losses))]\n",
        "plt.scatter(axis_x, losses)\n",
        "print(betas)\n",
        "print(data)\n",
        "print(msle(housing['cena'], predictions))"
      ],
      "execution_count": null,
      "outputs": [
        {
          "output_type": "stream",
          "text": [
            "[507963.6953045406, 503822.49925482424, 506524.29994112987, 504468.02228290273, 525895.2661740187, 502612.5879219705, 494623.3631717602, 489678.1740767913, 504002.7110861361, 532339.1852529397, 496477.75049184985, 524660.6241847674, 502248.33406231314, 529897.6526127267, 530712.3934238866, 505631.5367595689, 505015.9164771425, 509990.82530880906, 495410.798410237, 523105.4373672393, 509809.1617399839, 528591.8269952143, 497520.72479263565, 506299.8598164669, 525560.9899879416, 509221.33273962524, 512971.95960499824, 520374.9431810015, 505151.79215156555, 504812.10242419195, 533046.3824570533, 505251.9482633233, 496932.2128651963, 489535.60474113445, 511631.169630538, 520994.60081445985, 495641.039705122, 505818.0782523766, 499752.2486608121, 507764.9543083122, 514758.69037055864, 516505.44691011717, 503186.52982563956, 523140.3155751307, 502685.108625517, 506420.8268972517, 484624.27018447407, 507596.0554392278, 504277.1806743721, 490777.3336562095, 494213.8574631928, 496814.0256049423, 500412.9387352675, 521705.526038557, 508611.5870389407, 507715.2415861017, 526819.0051548489, 500212.2967914592, 506375.57504834177, 527645.082557424, 504974.8221069574, 504971.3241840535, 493448.3166866652, 519632.2825504228, 515438.94652562233, 512445.6834563257, 513250.7923580278, 519057.1453033687, 516737.78509845224, 505192.8348616176, 493391.7518755276, 498813.1035651499, 505654.94357753947, 507538.1132278242, 512573.6825102842, 507363.16567263345, 519047.13566208805, 512250.64520711533, 505522.7378717744, 516287.26030902046, 499664.67441009084, 519516.50662907277, 525129.2378874242, 512664.58815979544, 501475.5534539088, 515918.8868085675, 492611.0340414963, 519839.0584807851, 503581.8921574131, 507309.17525388615, 524795.9482809312, 497794.81690697686, 491004.0770281906, 522231.4618166792, 513009.5920895264, 506209.4540850819, 523454.49079813337, 501294.1441065775, 528290.051576367, 515787.2921231982, 506961.2094467434, 493589.7883874438, 510884.1109178013, 494802.2716821252, 497344.1188617894, 493447.5730403981, 489915.1327761218, 496337.681211336, 494589.50863345177, 502503.8733825502, 506775.68178264203, 503163.3678556925, 512205.3933582053, 495452.45124510035, 518708.14040789986, 504839.32390642905, 492321.19197874283, 500221.41394172807, 516325.4643940616, 496970.3089726756, 494780.8277409225, 488464.3267419766, 517033.3211539963, 505789.7585930591, 519321.605250324, 515927.26343727723, 499582.6902359067, 496741.27329023066, 490478.5053638303, 519275.30636057135, 502695.3745469019, 524089.2390821109, 509040.5593189272, 519167.05544410215, 496622.70649747155, 488262.4127746515, 510385.6044806192, 510327.81852427457, 488145.7852294725, 523559.60970614303, 520042.07829343295, 504351.114972336, 498806.23785816197, 517905.28415948036, 524063.115234752, 494563.68818066845, 518623.2726802135, 495974.08664957155, 494404.54281666456, 511093.76463512937, 510632.5470194082, 489689.48703901883, 521381.91687694704, 519959.1839488679, 496154.99295406876, 494562.2028028406, 506925.5133693617, 514556.5943463525, 489820.54593682406, 523275.2519283449, 514338.2512322688, 505883.8579222899, 493998.9145635061, 512191.24177096685, 529275.3486801934, 524014.9506815119, 518170.83312099805, 512873.8984719843, 526939.8978983863, 505555.383448637, 530663.4615951917, 496848.90381283365, 503045.30297288444, 517149.7666422942, 510734.00836681906, 511844.53945501684, 504351.114972336, 513449.14561130654, 526421.0098841331, 517552.74521374167, 509441.87045566586, 529763.6655918482, 530208.7040377143, 512742.460041674, 492242.7685186051, 524720.8689756898, 498898.5720441771, 509651.84006574773, 523763.28907461197, 513599.0985357208, 511777.2626909208, 517861.63118760026, 517575.18908131577, 523439.76426137605, 509693.9959434451, 511463.6235134102, 506062.66872414807, 507278.71187092137, 520014.74883363413, 494491.3631520638]\n",
            "[191.67963361579933, 3.5989195286488744, 2.743151349635123, 251.55659837775434, 0.18217405177348292, -0.8432424503090464, 0.6436154252058393, 0.4377243285531691, -0.12442933629282953, 0.11366796715713325]\n",
            "[0      104\n",
            "1       43\n",
            "2      128\n",
            "3      112\n",
            "4      149\n",
            "      ... \n",
            "195     54\n",
            "196     35\n",
            "197    107\n",
            "198    117\n",
            "199     56\n",
            "Name: m2, Length: 200, dtype: int64, 0      2\n",
            "1      1\n",
            "2      3\n",
            "3      3\n",
            "4      3\n",
            "      ..\n",
            "195    1\n",
            "196    1\n",
            "197    2\n",
            "198    3\n",
            "199    2\n",
            "Name: ilość_sypialni, Length: 200, dtype: int64, 0      2\n",
            "1      1\n",
            "2      2\n",
            "3      2\n",
            "4      3\n",
            "      ..\n",
            "195    1\n",
            "196    1\n",
            "197    2\n",
            "198    2\n",
            "199    1\n",
            "Name: ilość_łazienek, Length: 200, dtype: int64, 0      1940\n",
            "1      1970\n",
            "2      1916\n",
            "3      1920\n",
            "4      1977\n",
            "       ... \n",
            "195    1992\n",
            "196    1985\n",
            "197    1935\n",
            "198    1978\n",
            "199    1923\n",
            "Name: rok_budowy, Length: 200, dtype: int64, 0      1\n",
            "1      1\n",
            "2      1\n",
            "3      1\n",
            "4      0\n",
            "      ..\n",
            "195    1\n",
            "196    1\n",
            "197    0\n",
            "198    1\n",
            "199    0\n",
            "Name: parking_podziemny, Length: 200, dtype: int64, 0      0\n",
            "1      0\n",
            "2      1\n",
            "3      0\n",
            "4      0\n",
            "      ..\n",
            "195    0\n",
            "196    1\n",
            "197    1\n",
            "198    1\n",
            "199    0\n",
            "Name: grodziskowo, Length: 200, dtype: uint8, 0      1\n",
            "1      0\n",
            "2      0\n",
            "3      1\n",
            "4      1\n",
            "      ..\n",
            "195    1\n",
            "196    0\n",
            "197    0\n",
            "198    0\n",
            "199    0\n",
            "Name: mokotowo, Length: 200, dtype: uint8, 0      0\n",
            "1      1\n",
            "2      0\n",
            "3      0\n",
            "4      0\n",
            "      ..\n",
            "195    0\n",
            "196    0\n",
            "197    0\n",
            "198    0\n",
            "199    0\n",
            "Name: ochotowo, Length: 200, dtype: uint8, 0      0\n",
            "1      0\n",
            "2      0\n",
            "3      0\n",
            "4      0\n",
            "      ..\n",
            "195    0\n",
            "196    0\n",
            "197    0\n",
            "198    0\n",
            "199    1\n",
            "Name: wolowo, Length: 200, dtype: uint8]\n",
            "0.373689579811117\n"
          ],
          "name": "stdout"
        },
        {
          "output_type": "display_data",
          "data": {
            "image/png": "[encoded data removed]",
            "text/plain": [
              "<Figure size 432x288 with 1 Axes>"
            ]
          },
          "metadata": {
            "tags": [],
            "needs_background": "light"
          }
        }
      ]
    },
    {
      "cell_type": "markdown",
      "metadata": {
        "id": "nzrrOte5-Eol"
      },
      "source": [
        "Note that the loss function that the algorithms optimizes (i.e $MSE$) differs from $MSLE$. We've already seen that this may result in a suboptimal solution.\n",
        "\n",
        "How can you change the setting so that we optimze $MSLE$ instead?"
      ]
    },
    {
      "cell_type": "markdown",
      "metadata": {
        "id": "qVD8kWEJ-Eom"
      },
      "source": [
        "Hint: \n",
        "<sub><sup><sub><sup><sub><sup>\n",
        "Be lazy. We don't want to change the algorithm.\n",
        "</sup></sub></sup></sub></sup></sub>"
      ]
    },
    {
      "cell_type": "code",
      "metadata": {
        "id": "MniIPMg8-Eom",
        "outputId": "7e99fa16-3b26-44b0-ca6c-a130f5504f71",
        "colab": {
          "base_uri": "https://localhost:8080/",
          "height": 321
        }
      },
      "source": [
        "#############################################\n",
        "# TODO: Optimize msle and compare the error #\n",
        "#############################################\n",
        "import pandas as pd\n",
        "import matplotlib.pyplot as plt\n",
        "\n",
        "\n",
        "def prediction(xs, betas):\n",
        "  i = 0\n",
        "  preds = []\n",
        "  while (i < len(xs[0])):\n",
        "    pred = 0\n",
        "    for j in range(len(betas) - 1):\n",
        "      pred += xs[j][i] * betas[j]\n",
        "    pred += betas[len(betas) - 1]\n",
        "    i += 1\n",
        "    preds.append(pred)\n",
        "  return preds\n",
        "\n",
        "def derivative(ys, ps, xi):\n",
        "  assert len(ys) == len(ps)\n",
        "  result_r = 0\n",
        "  for i in range(len(ys)):\n",
        "    result_r += (math.log(ps[i] + 1) - math.log(ys[i] + 1))/(1 + ps[i]) * xi[i]\n",
        "  result_r /= (len(ys)/2)\n",
        "  return result_r\n",
        "\n",
        "housing = pd.DataFrame(pd.read_csv(\"mieszkania.csv\"))\n",
        "districts = pd.get_dummies(housing['dzielnica'])\n",
        "data = []\n",
        "\n",
        "data.append(housing['m2'])\n",
        "data.append(housing['ilość_sypialni'])\n",
        "data.append(housing['ilość_łazienek'])\n",
        "data.append(housing['rok_budowy'])\n",
        "data.append(housing['parking_podziemny'])\n",
        "\n",
        "for district in districts:\n",
        "  data.append(districts[district])\n",
        "\n",
        "betas = [0.] * (len(data) + 1)\n",
        "\n",
        "n_epochs = 1000\n",
        "lr = 0.005\n",
        "losses = []\n",
        "for i in range(n_epochs):\n",
        "  predictions = prediction(data, betas)\n",
        "  losses.append(msle(housing['cena'], predictions))\n",
        "  for j in range(len(betas) - 1):\n",
        "    betas[j] = betas[j] - lr * derivative(housing['cena'], predictions, data[j])\n",
        "  j = len(betas) - 1\n",
        "  betas[j] = betas[j] - lr * derivative(housing['cena'], predictions, [1] * 200)\n",
        "print(predictions)\n",
        "axis_x = [i for i in range(len(losses))]\n",
        "plt.scatter(axis_x, losses)\n",
        "print(msle(housing['cena'], predictions))"
      ],
      "execution_count": null,
      "outputs": [
        {
          "output_type": "stream",
          "text": [
            "[494924.30219010037, 501913.69466798037, 489069.81412765867, 489918.4200059887, 504819.9009510663, 493906.22400905826, 489854.6303771843, 491265.2305104458, 502645.4708523112, 513357.69059505424, 489716.6697925595, 505954.63775904954, 488592.42877117585, 514185.0955954213, 511342.7943225941, 496960.8501251626, 491392.3824147101, 503939.4945858332, 492304.50387492, 503462.3747369237, 499357.6915711402, 511947.2365308378, 492421.2908138241, 495072.79749569553, 505763.9623448439, 496196.97198934486, 501457.66598979203, 506198.7502375888, 498859.22445650405, 488253.17859613826, 513156.34902525315, 508489.61911745794, 493110.5432374838, 492219.88798710593, 497533.6265314398, 507195.47741594625, 494001.4780367876, 493121.2092894813, 500725.8559251981, 503335.009812865, 509497.18998052285, 500450.2336353944, 493938.01812159043, 505148.66260391695, 497278.94553704234, 503260.62186694884, 487616.78292935377, 501881.9892335809, 497607.68546181114, 490363.69091745873, 487425.8127191153, 488772.8857981554, 503409.2817623321, 510844.0982983256, 498328.9695752715, 498519.8637884793, 510886.65026295144, 487998.47587296035, 506145.5994467622, 507323.0373693743, 505827.39424366236, 501977.22446551995, 491233.3273040574, 504713.8682332033, 499188.03426431376, 506241.01212173916, 507969.9119161394, 508532.04034761694, 509847.346734642, 508245.73560828593, 494839.54927882407, 495380.20228057983, 499368.25086780725, 509338.1131417883, 494457.6319306161, 488634.9164436938, 509253.2232959813, 498530.28941629216, 499601.59965531033, 498031.9506989944, 494224.3165740218, 511926.1144114463, 504777.5721161665, 508659.29790435685, 500821.2499940567, 501139.6137583302, 487818.32012229, 511703.30327720515, 489388.1283385406, 507641.07753333164, 509571.52011020394, 495083.25655511586, 488210.49530118395, 509910.767439024, 506994.0564084324, 508542.61419332854, 509497.26270978135, 492389.53917994257, 510727.4274412458, 512922.7318839592, 505456.087803826, 490278.72834169463, 492198.5076091891, 490586.468008104, 499389.58918799274, 491233.2600775621, 488390.84901351505, 498371.33762028784, 495868.33556819794, 500396.94554535963, 489324.29665270343, 495380.56835878466, 501415.26699610543, 497841.1130925625, 498647.24750762986, 490660.80107007665, 489727.1771966108, 503398.7499729546, 499718.3872929755, 490947.075051108, 495878.87028986687, 487107.51305867505, 507216.91019417084, 506835.0467961932, 504215.4379054813, 496568.2025182245, 491572.9708749175, 493099.94715529983, 489143.9547474958, 510950.25890373933, 500407.5445605337, 509773.07185218466, 495465.192872024, 509741.1218350245, 488762.35107648646, 487818.225578177, 507089.3588668668, 502995.7134376468, 491180.4997495678, 503006.27910798596, 510992.6549651344, 497130.53759652283, 499951.6807478794, 496918.3505608443, 507365.39086394885, 489610.74393502215, 499845.5784073564, 489207.6376027472, 491286.3166007203, 510737.97112312214, 491943.96079063916, 490543.9861154925, 507216.9403580061, 512191.1988839567, 489939.48385909223, 489610.74108810595, 499920.0150319869, 510207.83820651966, 490310.69868780574, 508765.48359385773, 507789.5553568921, 501065.3537020605, 492707.60736027866, 494436.436833258, 513188.1706457736, 506400.1343728132, 508001.68438666366, 499527.27866014367, 511374.5458704017, 493587.9711593898, 510377.5378307599, 490459.1736651486, 498742.5680637921, 503854.5717292749, 501574.42561107845, 492251.7799983592, 497130.53759652283, 499559.1429321613, 507736.46255590895, 510854.93206137605, 502465.48606370384, 510568.3388996843, 510833.69775250414, 499760.6274483453, 494775.8879619827, 506198.64985593053, 498031.8282259738, 489483.56203983235, 509995.49526691175, 506304.88637299964, 511978.9724638546, 511353.21366350737, 509412.3789779642, 510218.3093327459, 502720.0358152439, 507630.31091070257, 505647.0990456287, 493683.2980024517, 504735.1277108391, 490087.97623239586]\n",
            "0.3828534881213351\n"
          ],
          "name": "stdout"
        },
        {
          "output_type": "display_data",
          "data": {
            "image/png": "[encoded data removed]",
            "text/plain": [
              "<Figure size 432x288 with 1 Axes>"
            ]
          },
          "metadata": {
            "tags": [],
            "needs_background": "light"
          }
        }
      ]
    },
    {
      "cell_type": "markdown",
      "metadata": {
        "id": "OvWrBkLu-Eoo"
      },
      "source": [
        "Without any feature engineering our model approximates the price as a linear combination of original features:\n",
        "$$\n",
        "\\text{price} \\approx w_1 \\cdot \\text{area} + w_2 \\cdot \\text{district} + \\dots.\n",
        "$$\n",
        "Let's now introduce some interactions between the variables. For instance, let's consider a following formula:\n",
        "$$\n",
        "\\text{price} \\approx w_1 \\cdot \\text{area} \\cdot \\text{avg. price in the district per sq. meter} + w_2 \\cdot \\dots + \\dots.\n",
        "$$\n",
        "Here, we model the price with far greater granularity, and we may expect to see more acurate results."
      ]
    },
    {
      "cell_type": "markdown",
      "metadata": {
        "id": "zBM60E7t-Eop"
      },
      "source": [
        "Add some feature engineering to your model. Be sure to play with the data and not with the algorithm's code. \n",
        "\n",
        "Think how to make sure that your model is capable of capturing the $w_1 \\cdot \\text{area} \\cdot \\text{avg. price...}$ part, without actually computing the averages."
      ]
    },
    {
      "cell_type": "markdown",
      "metadata": {
        "id": "XT5DziNC-Eoq"
      },
      "source": [
        "Hint: \n",
        "<sub><sup><sub><sup><sub><sup>\n",
        "Is having a binary encoding for each district and multiplying it by area enough?\n",
        "</sup></sub></sup></sub></sup></sub>"
      ]
    },
    {
      "cell_type": "markdown",
      "metadata": {
        "id": "PKOVCHNz-Eor"
      },
      "source": [
        "Hint 2: \n",
        "<sub><sup><sub><sup><sub><sup>\n",
        "Why not multiply everything together? I.e. (A,B,C) -> (AB,AC,BC).\n",
        "</sup></sub></sup></sub></sup></sub>"
      ]
    },
    {
      "cell_type": "code",
      "metadata": {
        "id": "DPviz09O-Eor",
        "outputId": "151b4667-0d21-4540-e5c5-26789d1ea598",
        "colab": {
          "base_uri": "https://localhost:8080/",
          "height": 330
        }
      },
      "source": [
        "###############################################\n",
        "# TODO: Implement the feature engieering part #\n",
        "###############################################\n",
        "import pandas as pd\n",
        "import matplotlib.pyplot as plt\n",
        "def l2_loss(ys1, ps1):\n",
        "    assert len(ys1) == len(ps1)\n",
        "    result = 0\n",
        "    for i in range(len(ys1)):\n",
        "      result += (ys1[i] - ps1[i]) ** 2\n",
        "    result /= len(ys1)\n",
        "    return result\n",
        "\n",
        "def prediction(xs, betas):\n",
        "  i = 0\n",
        "  preds = []\n",
        "  while (i < len(xs[0])):\n",
        "    pred = 0\n",
        "    for j in range(len(betas) - 1):\n",
        "      pred += xs[j][i] * betas[j]\n",
        "    pred += betas[len(betas) - 1]\n",
        "    i += 1\n",
        "    preds.append(pred)\n",
        "  return preds\n",
        "\n",
        "def derivative(ys, ps, xi):\n",
        "  assert len(ys) == len(ps)\n",
        "  result_r = 0\n",
        "  for i in range(len(ys)):\n",
        "    result_r += (ps[i] - ys[i]) * xi[i]\n",
        "  result_r /= (len(ys)/2)\n",
        "  return result_r\n",
        "\n",
        "def prepare_data(filename):\n",
        "  housing = pd.DataFrame(pd.read_csv(filename))\n",
        "  districts = pd.get_dummies(housing['dzielnica'])\n",
        "  data = []\n",
        "\n",
        "  data.append(housing['m2'])\n",
        "  data.append(housing['ilość_sypialni'])\n",
        "  data.append(housing['ilość_łazienek'])\n",
        "  data.append(housing['rok_budowy'])\n",
        "  data.append(housing['parking_podziemny'])\n",
        "\n",
        "  district_data = []\n",
        "  for district in districts:\n",
        "    district_data.append(districts[district])\n",
        "\n",
        "  additional_data = []\n",
        "  for d in district_data:\n",
        "    row = [a * b for a, b in zip(d, housing['cena'])]\n",
        "    data.append(row)\n",
        "  return data\n",
        "\n",
        "\n",
        "data = prepare_data('mieszkania.csv')\n",
        "\n",
        "betas = [0.] * (len(data) + 1)\n",
        "\n",
        "n_epochs = 1000\n",
        "lr = 0.0000000000001\n",
        "losses = []\n",
        "for i in range(n_epochs):\n",
        "  predictions = prediction(data, betas)\n",
        "  losses.append(l2_loss(housing['cena'], predictions))\n",
        "  for j in range(len(betas) - 1):\n",
        "    betas[j] = betas[j] - lr * derivative(housing['cena'], predictions, data[j])\n",
        "  j = len(betas) - 1\n",
        "  betas[j] = betas[j] - lr * derivative(housing['cena'], predictions, [1] * len(housing['cena']))\n",
        "print(predictions)\n",
        "axis_x = [i for i in range(len(losses))]\n",
        "plt.scatter(axis_x, losses)"
      ],
      "execution_count": null,
      "outputs": [
        {
          "output_type": "stream",
          "text": [
            "[780092.8781250801, 346926.8591636128, 521566.6404533383, 830961.7624314388, 1090467.1847153206, 599065.2327882468, 463648.9449925748, 166805.83970684966, 318864.9980251375, 1011386.5153115394, 429467.04515649204, 1051597.402237933, 563471.1866041517, 620445.6987740558, 1097765.0149171716, 645203.7182853462, 776120.6434548504, 367870.95013479213, 256270.61104375683, 1009993.0238652609, 380217.2389724679, 980552.3193359518, 290701.45735456335, 788214.4030284281, 1064699.9147396078, 757999.7479404488, 652031.7173042758, 513193.5047599593, 505032.9306795907, 478122.0461088378, 548904.0032234603, 112657.14643014631, 291178.2476068263, 128330.2939851409, 629147.343820537, 481112.04371620115, 330790.09263147623, 451869.2694531046, 232049.03556272236, 392338.3766589931, 305254.64827599056, 922614.8009797909, 452193.1244708225, 994026.6936099738, 488403.56639415206, 384498.56403948873, 105576.87100085127, 496041.4237867576, 528220.1431539553, 156269.82914304908, 390192.9127518866, 330504.2572006529, 135247.68711771295, 712853.1843975023, 401414.8944068264, 637263.0934522807, 660209.5001628605, 433372.30107679276, 252780.52208264475, 1050401.772420294, 210965.0283669422, 348708.7982591114, 402519.24754897424, 612479.5836026559, 921600.7688791688, 284479.1982779892, 517535.0972170168, 386957.8489508007, 531324.5747338271, 145135.59404192067, 178470.61043752427, 326035.6028063174, 444415.27434397215, 120793.89249272471, 648679.1861479017, 1003378.4503878477, 670917.6153136131, 598885.9339743735, 351285.55403992237, 765558.450595132, 303393.68135037407, 501658.8901708062, 1097499.6653355192, 447186.5751763004, 298925.5484197921, 622520.8780742815, 447550.4202523424, 558564.684116473, 811989.4202498618, 121121.58966850165, 899359.3628120181, 186321.10354981004, 341142.40099655936, 791986.2682897513, 394362.7730746591, 131433.19694512337, 573500.8233595445, 410537.15342958097, 572410.0550604297, 218135.58647654296, 350442.92490234674, 223531.4132453639, 692151.8564545524, 250495.84469964067, 125419.26262255014, 265562.4438611317, 305330.70709867624, 108830.47290354467, 190502.22831742183, 245490.96458348873, 529746.4445196526, 356379.05879485124, 496514.2857844191, 140729.13871153095, 744401.5589528987, 768726.8731798193, 248641.2202613224, 102595.84441392549, 958568.6793838148, 467377.8695878987, 186235.3845281512, 219471.23299249337, 373673.83720559423, 219762.7627825196, 903458.9207778034, 1102296.0401033119, 608604.7568186547, 417868.79105525825, 325763.00833239267, 408785.2591639819, 245965.94115488057, 697377.5520491478, 546284.4354006161, 637670.6936344774, 344115.98523213965, 248427.125384856, 354621.86301265983, 389656.7934801476, 130661.28430144682, 1100500.4589884114, 630455.1755506444, 558910.0058922446, 222835.32671357712, 1073094.3808075415, 708468.8584877659, 447219.63737907895, 1053406.0015738222, 301981.62120171817, 202814.97919465078, 179668.53281264586, 707913.0426432911, 166725.80348576803, 585885.0700190426, 580578.9081798756, 387265.19877907535, 273204.9214936652, 361655.81974185724, 353310.03169763443, 199727.73292460848, 862811.6418066334, 338114.19704045466, 457884.76948073006, 172311.71209745095, 1020111.9182797251, 910239.1674544757, 869323.2780068346, 372600.84337134636, 587048.5891459079, 945493.7910819276, 386993.89466494793, 1094316.0882264602, 351064.4156033943, 407476.5767132952, 416502.4779311398, 589092.0167914699, 769365.9413173174, 514889.60004915297, 813245.7378162944, 675139.5712935985, 523270.0483738138, 390057.74388862913, 990663.1130471266, 801465.3304866469, 546700.6493571106, 103013.3815904481, 1074067.596411962, 124527.48303334058, 777295.3875098224, 819633.2724839434, 528836.597760064, 190817.425307011, 507373.6512526704, 599807.1983733496, 603667.3315676766, 615859.1026863449, 378844.1004077931, 169234.7871088456, 471466.9221294265, 429517.46003732516, 308332.2117296352]\n"
          ],
          "name": "stdout"
        },
        {
          "output_type": "execute_result",
          "data": {
            "text/plain": [
              "<matplotlib.collections.PathCollection at 0x7f533bdd09b0>"
            ]
          },
          "metadata": {
            "tags": []
          },
          "execution_count": 172
        },
        {
          "output_type": "display_data",
          "data": {
            "image/png": "[encoded data removed]",
            "text/plain": [
              "<Figure size 432x288 with 1 Axes>"
            ]
          },
          "metadata": {
            "tags": [],
            "needs_background": "light"
          }
        }
      ]
    },
    {
      "cell_type": "code",
      "metadata": {
        "id": "v2Lj1TPr-Eot",
        "outputId": "35c94d3f-824f-44b6-cec8-453668f99fa2",
        "colab": {
          "base_uri": "https://localhost:8080/",
          "height": 293
        }
      },
      "source": [
        "##############################################################\n",
        "# TODO: Test your solution on the training and test datasets #\n",
        "##############################################################\n",
        "\n",
        "test_data = prepare_data('mieszkania_test.csv')\n",
        "prediction_test = prediction(test_data, betas)\n",
        "\n",
        "x_axis_test = [i for i in range(len(prediction_test))]\n",
        "test_prices = pd.DataFrame(pd.read_csv(\"mieszkania_test.csv\"))['cena']\n",
        "\n",
        "plt.plot(x_axis_test, prediction_test)\n",
        "plt.plot(x_axis_test, test_prices)\n",
        "\n",
        "print(msle(test_prices, prediction_test))"
      ],
      "execution_count": null,
      "outputs": [
        {
          "output_type": "stream",
          "text": [
            "3.2663435694120306e-06\n"
          ],
          "name": "stdout"
        },
        {
          "output_type": "display_data",
          "data": {
            "image/png": "[encoded data removed]",
            "text/plain": [
              "<Figure size 432x288 with 1 Axes>"
            ]
          },
          "metadata": {
            "tags": [],
            "needs_background": "light"
          }
        }
      ]
    },
    {
      "cell_type": "code",
      "metadata": {
        "id": "LjoKIA6zYeJv",
        "outputId": "3f8be490-bf6b-4967-bead-372f5c91a235",
        "colab": {
          "base_uri": "https://localhost:8080/"
        }
      },
      "source": [
        "!head mieszkania_test.csv"
      ],
      "execution_count": null,
      "outputs": [
        {
          "output_type": "stream",
          "text": [
            "m2,dzielnica,ilość_sypialni,ilość_łazienek,rok_budowy,parking_podziemny,cena\n",
            "71,wolowo,2,2,1912,1,322227\n",
            "45,mokotowo,1,1,1938,0,295878\n",
            "38,mokotowo,1,1,1999,1,306530\n",
            "70,ochotowo,2,2,1980,1,553641\n",
            "136,mokotowo,3,2,1939,1,985348\n",
            "128,wolowo,3,2,1983,1,695726\n",
            "23,grodziskowo,1,1,1975,0,99751\n",
            "117,mokotowo,3,2,1942,0,891261\n",
            "65,ochotowo,2,1,2002,1,536499\n"
          ],
          "name": "stdout"
        }
      ]
    }
  ]
}