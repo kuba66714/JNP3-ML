{
  "nbformat": 4,
  "nbformat_minor": 0,
  "metadata": {
    "kernelspec": {
      "name": "python3",
      "display_name": "Python 3"
    },
    "colab": {
      "name": "Exercise_1_P3.ipynb",
      "provenance": [],
      "toc_visible": true
    }
  },
  "cells": [
    {
      "cell_type": "markdown",
      "metadata": {
        "id": "s47n23ty7ss5"
      },
      "source": [
        "# Simple linear regression \n",
        "\n",
        "In this exercise you will train a linear regression model via gradient descent in the simplest scenario, i.e. recreating an affine function.\n",
        "\n",
        "The setup is as follows:\n",
        "* we are given a set of pairs $(x, y)$, where $x$ represents the feature, and $y$ is the target,\n",
        "* our hypothesis is $h(x) = ax + b$,\n",
        "* we will use the dataset consisting of set of pairs to figure out the right values for $a$ and $b$,\n",
        "* to do so we will optimize the loss function: $J(a,b) = \\frac{1}{n}\\sum_{i=1}^n (y_i - h(x_i))^2$,\n",
        "* with the loss function in hand we can improve our guesses iteratively:\n",
        "    * $a^{t+1} = a^t - \\text{step_size} \\cdot \\frac{\\partial J(a,b)}{\\partial a}$,\n",
        "    * $b^{t+1} = b^t - \\text{step_size} \\cdot \\frac{\\partial J(a,b)}{\\partial b}$,\n",
        "* we can end the process after some predefined number of epochs (or when the changes are no longer meaningful).\n",
        "\n",
        "Let's start with creating the dataset."
      ]
    },
    {
      "cell_type": "code",
      "metadata": {
        "id": "hOm-6OMd7ss7"
      },
      "source": [
        "%matplotlib inline\n",
        "\n",
        "import random\n",
        "\n",
        "_a = 0.3\n",
        "_b = 0.5\n",
        "\n",
        "f = lambda x: _a * x + _b # ground truth\n",
        "g = lambda x: f(x) + random.gauss(0, 0.02) # a noisy version of f"
      ],
      "execution_count": null,
      "outputs": []
    },
    {
      "cell_type": "code",
      "metadata": {
        "id": "2EQLIz_Y7stB",
        "outputId": "f214844c-04ae-43e7-e268-a89ec48e87aa",
        "colab": {
          "base_uri": "https://localhost:8080/",
          "height": 282
        }
      },
      "source": [
        "n = 50 # number of examples\n",
        "\n",
        "xs = [random.random() for _ in range(n)] # features\n",
        "ys = list(map(g, xs)) # targets\n",
        "\n",
        "ts = list(map(f, xs)) # we don't get to see this\n",
        "\n",
        "plt.scatter(xs, ys)\n",
        "plt.scatter(xs, ts)"
      ],
      "execution_count": null,
      "outputs": [
        {
          "output_type": "execute_result",
          "data": {
            "text/plain": [
              "<matplotlib.collections.PathCollection at 0x7fa06f8b5c88>"
            ]
          },
          "metadata": {
            "tags": []
          },
          "execution_count": 4
        },
        {
          "output_type": "display_data",
          "data": {
            "image/png": "[encoded data removed]",
            "text/plain": [
              "<Figure size 432x288 with 1 Axes>"
            ]
          },
          "metadata": {
            "tags": [],
            "needs_background": "light"
          }
        }
      ]
    },
    {
      "cell_type": "markdown",
      "metadata": {
        "id": "oyIWYrek7stF"
      },
      "source": [
        "Our goal is to recreate $f$. However, as reality can be harsh (and usually is) we only get to observe $g$. We observe it as a list of pairs $(x,y) \\in \\text{zip}(xs, ys)$.\n",
        "\n",
        "Let's plot the data."
      ]
    },
    {
      "cell_type": "code",
      "metadata": {
        "id": "UBp8TaLJ7stH",
        "outputId": "6135e446-94fa-49ff-dfbc-ceb3646d1f59",
        "colab": {
          "base_uri": "https://localhost:8080/",
          "height": 663
        }
      },
      "source": [
        "import matplotlib.pyplot as plt\n",
        "import seaborn as sns\n",
        "\n",
        "fig = plt.figure(figsize=(11, 11))\n",
        "plt.scatter(xs, ys)"
      ],
      "execution_count": null,
      "outputs": [
        {
          "output_type": "execute_result",
          "data": {
            "text/plain": [
              "<matplotlib.collections.PathCollection at 0x7fa0657b5278>"
            ]
          },
          "metadata": {
            "tags": []
          },
          "execution_count": 3
        },
        {
          "output_type": "display_data",
          "data": {
            "image/png": "[encoded data removed]",
            "text/plain": [
              "<Figure size 792x792 with 1 Axes>"
            ]
          },
          "metadata": {
            "tags": [],
            "needs_background": "light"
          }
        }
      ]
    },
    {
      "cell_type": "code",
      "metadata": {
        "id": "nRqybzzs7stM"
      },
      "source": [
        "def l2_loss(ys, ps):\n",
        "    assert len(ys) == len(ps)\n",
        "    result = 0\n",
        "    for i in range(len(ys)):\n",
        "      result += (ys[i] - ps[i]) ** 2\n",
        "    result /= len(ys)\n",
        "    return result"
      ],
      "execution_count": null,
      "outputs": []
    },
    {
      "cell_type": "markdown",
      "metadata": {
        "id": "ofYLNJM87stQ"
      },
      "source": [
        "Please take a while to (roughly) guess the output before executing the cell below."
      ]
    },
    {
      "cell_type": "code",
      "metadata": {
        "id": "CMavAdN77stR",
        "outputId": "ca008119-763d-4b28-bbe3-a1b4190f75bd",
        "colab": {
          "base_uri": "https://localhost:8080/"
        }
      },
      "source": [
        "l2_loss(ys, ts)"
      ],
      "execution_count": null,
      "outputs": [
        {
          "output_type": "execute_result",
          "data": {
            "text/plain": [
              "0.00037010160463982726"
            ]
          },
          "metadata": {
            "tags": []
          },
          "execution_count": 6
        }
      ]
    },
    {
      "cell_type": "markdown",
      "metadata": {
        "id": "RTRbX1tm7stV"
      },
      "source": [
        "Let's now implement the algorithm\n",
        "\n",
        "Hint: To make sure that you correctly compute the gradients, you can compute them numerically and compare the results. "
      ]
    },
    {
      "cell_type": "code",
      "metadata": {
        "id": "ChxX0fEL7stW",
        "outputId": "99226810-e71d-450d-b541-8edc516d19b7",
        "colab": {
          "base_uri": "https://localhost:8080/"
        }
      },
      "source": [
        "a = 0. # our initial guess for _a\n",
        "b = 0. # our initial guess for _b\n",
        "lr = 0.5 # step size\n",
        "\n",
        "n_epochs = 40 # number of passes over the training data\n",
        "\n",
        "def predict(a, b, xs=xs):\n",
        "    return [a * x + b for x in xs]\n",
        "\n",
        "def evaluate(a, b, xs=xs, ys=ys):\n",
        "    return l2_loss(ys, predict(a, b, xs))\n",
        "\n",
        "def derivative_a(ys, ps, xs):\n",
        "  assert len(ys) == len(ps)\n",
        "  result = 0\n",
        "  for i in range(len(ys)):\n",
        "    result += (ps[i] - ys[i]) * xs[i]\n",
        "  result /= len(xs) / 2\n",
        "  return result\n",
        "\n",
        "def derivative_b(ys, ps):\n",
        "  assert len(ys) == len(ps)\n",
        "  result = 0\n",
        "  for i in range(len(ys)):\n",
        "    result += (ps[i] - ys[i])\n",
        "  result /= len(ys) / 2\n",
        "  return result\n",
        "\n",
        "\n",
        "losses = [evaluate(a, b)]\n",
        "\n",
        "for i in range(n_epochs):\n",
        "    pred = predict(a, b)\n",
        "    a = a - lr * derivative_a(ys, pred, xs)\n",
        "    b = b - lr * derivative_b(ys, pred)\n",
        "    loss = evaluate(a, b)\n",
        "    losses.append(loss)\n",
        "    \n",
        "    print('Iter: {:>3} Loss: {:8.8f} a: {:8.5f}, b: {:8.5f}'.format(i, loss, a, b))"
      ],
      "execution_count": null,
      "outputs": [
        {
          "output_type": "stream",
          "text": [
            "Iter:   0 Loss: 0.02194780 a:  0.31657, b:  0.63401\n",
            "Iter:   1 Loss: 0.00162441 a:  0.24775, b:  0.48702\n",
            "Iter:   2 Loss: 0.00054121 a:  0.26697, b:  0.51898\n",
            "Iter:   3 Loss: 0.00046887 a:  0.26582, b:  0.51006\n",
            "Iter:   4 Loss: 0.00045130 a:  0.26914, b:  0.51059\n",
            "Iter:   5 Loss: 0.00043816 a:  0.27126, b:  0.50905\n",
            "Iter:   6 Loss: 0.00042665 a:  0.27349, b:  0.50806\n",
            "Iter:   7 Loss: 0.00041645 a:  0.27554, b:  0.50703\n",
            "Iter:   8 Loss: 0.00040741 a:  0.27748, b:  0.50608\n",
            "Iter:   9 Loss: 0.00039940 a:  0.27930, b:  0.50518\n",
            "Iter:  10 Loss: 0.00039229 a:  0.28101, b:  0.50433\n",
            "Iter:  11 Loss: 0.00038600 a:  0.28263, b:  0.50353\n",
            "Iter:  12 Loss: 0.00038042 a:  0.28415, b:  0.50278\n",
            "Iter:  13 Loss: 0.00037547 a:  0.28558, b:  0.50208\n",
            "Iter:  14 Loss: 0.00037108 a:  0.28693, b:  0.50141\n",
            "Iter:  15 Loss: 0.00036720 a:  0.28820, b:  0.50079\n",
            "Iter:  16 Loss: 0.00036375 a:  0.28939, b:  0.50020\n",
            "Iter:  17 Loss: 0.00036070 a:  0.29052, b:  0.49964\n",
            "Iter:  18 Loss: 0.00035799 a:  0.29158, b:  0.49912\n",
            "Iter:  19 Loss: 0.00035559 a:  0.29257, b:  0.49863\n",
            "Iter:  20 Loss: 0.00035346 a:  0.29351, b:  0.49817\n",
            "Iter:  21 Loss: 0.00035158 a:  0.29440, b:  0.49773\n",
            "Iter:  22 Loss: 0.00034991 a:  0.29523, b:  0.49732\n",
            "Iter:  23 Loss: 0.00034842 a:  0.29601, b:  0.49693\n",
            "Iter:  24 Loss: 0.00034711 a:  0.29675, b:  0.49657\n",
            "Iter:  25 Loss: 0.00034595 a:  0.29744, b:  0.49623\n",
            "Iter:  26 Loss: 0.00034492 a:  0.29810, b:  0.49591\n",
            "Iter:  27 Loss: 0.00034400 a:  0.29871, b:  0.49560\n",
            "Iter:  28 Loss: 0.00034319 a:  0.29929, b:  0.49532\n",
            "Iter:  29 Loss: 0.00034247 a:  0.29984, b:  0.49505\n",
            "Iter:  30 Loss: 0.00034183 a:  0.30035, b:  0.49479\n",
            "Iter:  31 Loss: 0.00034127 a:  0.30084, b:  0.49455\n",
            "Iter:  32 Loss: 0.00034077 a:  0.30129, b:  0.49433\n",
            "Iter:  33 Loss: 0.00034032 a:  0.30172, b:  0.49412\n",
            "Iter:  34 Loss: 0.00033993 a:  0.30212, b:  0.49392\n",
            "Iter:  35 Loss: 0.00033958 a:  0.30250, b:  0.49373\n",
            "Iter:  36 Loss: 0.00033927 a:  0.30286, b:  0.49356\n",
            "Iter:  37 Loss: 0.00033900 a:  0.30320, b:  0.49339\n",
            "Iter:  38 Loss: 0.00033876 a:  0.30352, b:  0.49323\n",
            "Iter:  39 Loss: 0.00033854 a:  0.30381, b:  0.49309\n"
          ],
          "name": "stdout"
        }
      ]
    },
    {
      "cell_type": "code",
      "metadata": {
        "id": "pdR0279A7stZ",
        "outputId": "1eaf6d12-1df0-4e5b-e4e8-69cc51a8b39b",
        "colab": {
          "base_uri": "https://localhost:8080/",
          "height": 282
        }
      },
      "source": [
        "plt.plot(losses)"
      ],
      "execution_count": null,
      "outputs": [
        {
          "output_type": "execute_result",
          "data": {
            "text/plain": [
              "[<matplotlib.lines.Line2D at 0x7fa06528a5f8>]"
            ]
          },
          "metadata": {
            "tags": []
          },
          "execution_count": 8
        },
        {
          "output_type": "display_data",
          "data": {
            "image/png": "[encoded data removed]",
            "text/plain": [
              "<Figure size 432x288 with 1 Axes>"
            ]
          },
          "metadata": {
            "tags": [],
            "needs_background": "light"
          }
        }
      ]
    },
    {
      "cell_type": "markdown",
      "metadata": {
        "id": "J7c_9F8u7stc"
      },
      "source": [
        "Let's now visually asses how we do on training data"
      ]
    },
    {
      "cell_type": "code",
      "metadata": {
        "id": "GH34w_867std",
        "outputId": "cae886ff-8e33-45b0-b27b-22ecc5a837e3",
        "colab": {
          "base_uri": "https://localhost:8080/",
          "height": 646
        }
      },
      "source": [
        "fig = plt.figure(figsize=(11, 11))\n",
        "plt.scatter(xs, ys)\n",
        "plt.plot(xs, predict(a, b), c='g')\n",
        "plt.show()"
      ],
      "execution_count": null,
      "outputs": [
        {
          "output_type": "display_data",
          "data": {
            "image/png": "[encoded data removed]",
            "text/plain": [
              "<Figure size 792x792 with 1 Axes>"
            ]
          },
          "metadata": {
            "tags": [],
            "needs_background": "light"
          }
        }
      ]
    },
    {
      "cell_type": "code",
      "metadata": {
        "id": "C1ZfnCzB7stf",
        "outputId": "59bce6d0-17ef-426b-c1df-839629d7a1d7",
        "colab": {
          "base_uri": "https://localhost:8080/",
          "height": 646
        }
      },
      "source": [
        "fig = plt.figure(figsize=(11, 11))\n",
        "plt.scatter(xs, ys)\n",
        "plt.plot(xs, predict(a, b), c='g')\n",
        "plt.plot(xs, ts, c='r')\n",
        "\n",
        "################################################################\n",
        "# TODO: Add the (unobserved) ground truth, i.e. ts to the plot #\n",
        "################################################################\n",
        "\n",
        "plt.show()"
      ],
      "execution_count": null,
      "outputs": [
        {
          "output_type": "display_data",
          "data": {
            "image/png": "[encoded data removed]",
            "text/plain": [
              "<Figure size 792x792 with 1 Axes>"
            ]
          },
          "metadata": {
            "tags": [],
            "needs_background": "light"
          }
        }
      ]
    },
    {
      "cell_type": "markdown",
      "metadata": {
        "id": "dlW25Mnq7sth"
      },
      "source": [
        "Let's check our implementation vs. the one in sklearn"
      ]
    },
    {
      "cell_type": "code",
      "metadata": {
        "id": "0r6GSafQ7sti",
        "outputId": "a4c88039-4565-410f-e7de-573b0ef5d698",
        "colab": {
          "base_uri": "https://localhost:8080/",
          "height": 34
        }
      },
      "source": [
        "from sklearn.linear_model import LinearRegression\n",
        "import numpy as np\n",
        "\n",
        "X = np.array(xs).reshape((len(xs), 1))\n",
        "regr = LinearRegression()\n",
        "regr.fit(X, ys) # traini\n",
        "\n",
        "sk_a = float(regr.coef_)\n",
        "sk_b = regr.intercept_\n",
        "sk_loss = l2_loss(ys, regr.predict(X))\n",
        "\n",
        "print('Loss: {:8.8f} a: {:8.5f}, b: {:8.5f}'.format(sk_loss, sk_a, sk_b))"
      ],
      "execution_count": null,
      "outputs": [
        {
          "output_type": "stream",
          "text": [
            "Loss: 0.00028547 a:  0.29505, b:  0.49890\n"
          ],
          "name": "stdout"
        }
      ]
    },
    {
      "cell_type": "code",
      "metadata": {
        "id": "ebBxXRDb9ie7"
      },
      "source": [
        ""
      ],
      "execution_count": null,
      "outputs": []
    }
  ]
}